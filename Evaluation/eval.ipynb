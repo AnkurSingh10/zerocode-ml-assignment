{
 "cells": [
  {
   "cell_type": "code",
   "execution_count": 7,
   "id": "b175592d-e2de-460f-9e8c-2a87f32cdb43",
   "metadata": {},
   "outputs": [
    {
     "name": "stdout",
     "output_type": "stream",
     "text": [
      "Collecting tf-keras==2.15.0\n",
      "  Downloading tf_keras-2.15.0-py3-none-any.whl.metadata (1.6 kB)\n",
      "Downloading tf_keras-2.15.0-py3-none-any.whl (1.7 MB)\n",
      "   ---------------------------------------- 0.0/1.7 MB ? eta -:--:--\n",
      "   ------------ --------------------------- 0.5/1.7 MB 3.6 MB/s eta 0:00:01\n",
      "   ------------------------------ --------- 1.3/1.7 MB 3.7 MB/s eta 0:00:01\n",
      "   ---------------------------------------- 1.7/1.7 MB 3.9 MB/s eta 0:00:00\n",
      "Installing collected packages: tf-keras\n",
      "  Attempting uninstall: tf-keras\n",
      "    Found existing installation: tf-keras 2.15.0\n",
      "    Uninstalling tf-keras-2.15.0:\n",
      "      Successfully uninstalled tf-keras-2.15.0\n",
      "Successfully installed tf-keras-2.15.0\n"
     ]
    }
   ],
   "source": [
    "!pip install --force-reinstall --no-cache-dir tf-keras==2.15.0\n"
   ]
  },
  {
   "cell_type": "code",
   "execution_count": null,
   "id": "a0e71c55-cfd8-4ab1-9e67-43bd40140267",
   "metadata": {},
   "outputs": [],
   "source": []
  },
  {
   "cell_type": "code",
   "execution_count": null,
   "id": "d15c2682-1439-44da-b7c0-f31570b8868f",
   "metadata": {},
   "outputs": [],
   "source": []
  },
  {
   "cell_type": "code",
   "execution_count": null,
   "id": "0e7baf82-dca9-4585-837a-ab8877444723",
   "metadata": {},
   "outputs": [],
   "source": []
  },
  {
   "cell_type": "code",
   "execution_count": null,
   "id": "a5702c6a-c8e4-4788-9826-67c13b0c2543",
   "metadata": {},
   "outputs": [],
   "source": []
  },
  {
   "cell_type": "code",
   "execution_count": null,
   "id": "f4e1d4d7-e679-4101-a320-63477de1c979",
   "metadata": {},
   "outputs": [],
   "source": []
  },
  {
   "cell_type": "code",
   "execution_count": null,
   "id": "ea61d5f3-ce4f-4508-adfe-3ebd9203c16e",
   "metadata": {},
   "outputs": [],
   "source": []
  },
  {
   "cell_type": "code",
   "execution_count": null,
   "id": "e85891d9-0454-40ea-9395-de4a5b7876b6",
   "metadata": {},
   "outputs": [],
   "source": []
  },
  {
   "cell_type": "code",
   "execution_count": null,
   "id": "749173f2-5b27-4a5e-817d-7339210d6ee7",
   "metadata": {},
   "outputs": [],
   "source": []
  },
  {
   "cell_type": "code",
   "execution_count": 4,
   "id": "2da98af0-37fb-40ad-b4e2-ae5e9b10b33b",
   "metadata": {},
   "outputs": [
    {
     "name": "stderr",
     "output_type": "stream",
     "text": [
      "Device set to use cpu\n"
     ]
    }
   ],
   "source": [
    "from transformers import  pipeline\n",
    "\n",
    "# ✅ Load base model (flan-t5-base, free & CPU-friendly)\n",
    "model_name = \"google/flan-t5-small\"\n",
    "\n",
    "base_model = pipeline(\"text2text-generation\",framework = \"pt\", model=model_name)\n",
    "question = \" What is Knee Replacement ?\"\n",
    "\n"
   ]
  },
  {
   "cell_type": "code",
   "execution_count": 17,
   "id": "ec70153d-e2e7-4139-ace1-88ed1fe32c09",
   "metadata": {},
   "outputs": [],
   "source": [
    "questions = (\"What is Knee Replacement ?\" \n",
    "             , \"What is Glaucoma ?\"\n",
    "             , \"What is Anxiety Disorders ?\")"
   ]
  },
  {
   "cell_type": "markdown",
   "id": "fa7638d2-64c2-4d34-82c9-89a45443156d",
   "metadata": {},
   "source": [
    "# BASE  MODEL"
   ]
  },
  {
   "cell_type": "code",
   "execution_count": null,
   "id": "b6013449-ad7f-49be-bc29-3ae50c032fdd",
   "metadata": {},
   "outputs": [
    {
     "name": "stdin",
     "output_type": "stream",
     "text": [
      "Ask a question (or type 'exit'):  What is Glaucoma?\n"
     ]
    },
    {
     "name": "stdout",
     "output_type": "stream",
     "text": [
      "📝 Answer: Glaucoma Glaucoma is a genus of fungi in the family Geometridae.\n",
      "\n"
     ]
    }
   ],
   "source": [
    "while True:\n",
    "    question = input(\"Ask a question (or type 'exit'): \")\n",
    "    if question.lower() == \"exit\":\n",
    "        break\n",
    "    result = base_model(question, max_new_tokens=150)[0]['generated_text']\n",
    "    print(f\"📝 Answer: {result}\\n\")"
   ]
  },
  {
   "cell_type": "code",
   "execution_count": null,
   "id": "a05957a8-8d63-47f1-ba3d-89980127da43",
   "metadata": {},
   "outputs": [],
   "source": []
  },
  {
   "cell_type": "code",
   "execution_count": null,
   "id": "67986a02-c841-4799-86cd-985624cffb2f",
   "metadata": {},
   "outputs": [],
   "source": []
  },
  {
   "cell_type": "code",
   "execution_count": null,
   "id": "b4e1929b-2555-4489-9249-c05610888347",
   "metadata": {},
   "outputs": [],
   "source": []
  },
  {
   "cell_type": "code",
   "execution_count": null,
   "id": "2b4e0f11-d461-45cb-87f5-8024faeb6ae1",
   "metadata": {},
   "outputs": [],
   "source": []
  },
  {
   "cell_type": "code",
   "execution_count": null,
   "id": "8f95e750-d75e-4045-a548-81724b1825f1",
   "metadata": {},
   "outputs": [],
   "source": []
  },
  {
   "cell_type": "code",
   "execution_count": null,
   "id": "7342034f-e2f4-425b-99a1-b0143d197b39",
   "metadata": {},
   "outputs": [],
   "source": []
  }
 ],
 "metadata": {
  "kernelspec": {
   "display_name": "Python 3 (ipykernel)",
   "language": "python",
   "name": "python3"
  },
  "language_info": {
   "codemirror_mode": {
    "name": "ipython",
    "version": 3
   },
   "file_extension": ".py",
   "mimetype": "text/x-python",
   "name": "python",
   "nbconvert_exporter": "python",
   "pygments_lexer": "ipython3",
   "version": "3.12.6"
  }
 },
 "nbformat": 4,
 "nbformat_minor": 5
}
